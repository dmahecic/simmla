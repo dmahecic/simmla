{
 "cells": [
  {
   "cell_type": "markdown",
   "metadata": {},
   "source": [
    "In this notebook we are going to use functionality provided by the SimMLA (pronounced 'Sim-L-A') package to compute the excitation irradiance profile in an epi-illumination fluorescence microscope using a fly's eye condenser. Such a condenser is realized with a pair of microlens arrays (MLA's). "
   ]
  },
  {
   "cell_type": "code",
   "execution_count": 1,
   "metadata": {
    "collapsed": false
   },
   "outputs": [
    {
     "name": "stdout",
     "output_type": "stream",
     "text": [
      "Using matplotlib backend: Qt4Agg\n",
      "Populating the interactive namespace from numpy and matplotlib\n"
     ]
    }
   ],
   "source": [
    "%pylab\n",
    "import SimMLA.fftpack as simfft\n",
    "import SimMLA.grids   as grids\n",
    "plt.style.use('dark_background')\n",
    "plt.rcParams['image.cmap'] = 'plasma'"
   ]
  },
  {
   "cell_type": "markdown",
   "metadata": {},
   "source": [
    "# Setup the MLA geometry\n",
    "We'll start by defining the geometry of the MLA's.\n",
    "+ Prior to the objective there are two MLA's with the same parameters.\n",
    "+ They are spaced by one focal length such that the second MLA is in the focal plane of the first.\n",
    "+ Each lenslet has the same focal length as all the other lenslets."
   ]
  },
  {
   "cell_type": "code",
   "execution_count": 2,
   "metadata": {
    "collapsed": true
   },
   "outputs": [],
   "source": [
    "numLenslets = 11    # Must be odd; corresponds to the number of lenslets in one dimension\n",
    "lensletSize = 500   # microns\n",
    "focalLength = 13700 # microns\n",
    "\n",
    "wavelength  = 0.642 # microns"
   ]
  },
  {
   "cell_type": "markdown",
   "metadata": {},
   "source": [
    "Now we'll establish a GridArray to represent the microlenses. Such an array is a coordinate system onto which the individual lenslets are mapped. The GridArray is primarily a convenience class because it manages all unit conversions when performing Fourier transforms.\n",
    "\n",
    "The most important parameter here is the subgridSize. This is the number of discrete lattice sites into which a lenslet will be divided. The spatial sampling period for each lenslet will therefore be\n",
    "\n",
    "$$\\delta = \\frac{p}{N_{sub}}$$\n",
    "\n",
    "where $p$ is the MLA pitch in microns and $ N_{\\text{sub}} $ is the subgrid size, i.e. the number of discrete lattice sites along one dimension of the MLA. For example, a MLA pitch of $p = 500 \\, \\mu m$ and a subgrid size of $N_{\\text{sub}} = 51$ will result in a spatial sampling period of $\\frac{500 \\, \\mu m}{51} \\approx 9.8 \\mu m$.\n",
    "\n",
    "A good sampling rate should be smaller than the fastest oscillations in the amplitude and phase of the Fourier transform of the input field. This will probably mean that the best sampling rate is half the wavelength; unfortunately, this sampling rate will probably be too high for fast numerical computations, so we'll start with a more reasonable sampling rate."
   ]
  },
  {
   "cell_type": "code",
   "execution_count": 3,
   "metadata": {
    "collapsed": true
   },
   "outputs": [],
   "source": [
    "subgridSize  = 501                       # Number of grid (or lattice) sites for a single lenslet\n",
    "physicalSize = numLenslets * lensletSize # The full extent of the MLA\n",
    "\n",
    "grid = grids.GridArray(numLenslets, subgridSize, physicalSize, wavelength, focalLength)"
   ]
  },
  {
   "cell_type": "markdown",
   "metadata": {},
   "source": [
    "# Define the input field\n",
    "Next, we'll define an input laser beam that will impinge upon the first MLA."
   ]
  },
  {
   "cell_type": "code",
   "execution_count": 4,
   "metadata": {
    "collapsed": false
   },
   "outputs": [],
   "source": [
    "power   = 100  # mW\n",
    "beamStd = 1000 # microns\n",
    "uIn     = lambda x, y: np.sqrt(power) / (2 * np. pi * beamStd**2) * np.exp(-(x**2 + y**2) / 2 / beamStd**2)\n",
    "\n",
    "plt.imshow(uIn(grid.px, grid.py),\n",
    "           extent = (grid.px.min(), grid.px.max(), grid.py.min(), grid.py.max()))\n",
    "plt.xlabel('x-position, microns')\n",
    "plt.ylabel('y-position, microns')\n",
    "plt.show()"
   ]
  },
  {
   "cell_type": "markdown",
   "metadata": {},
   "source": [
    "# Find the field immediately after the second MLA\n",
    "The field immediately *after* the second MLA is a summation of the Fourier transforms of all the fields sampled by each lenslet in the first array. Each transform is centered around the axis of its corresponding lenslet. Therefore, we have to compute a Fourier transform for each lenslet separately and then shift the origin of its coordinate axes onto the axis for the corresponding lenslet.\n",
    "\n",
    "The reason that there is no quadratic phase curvature preceding the transforms is because the second MLA acts as a field lens, effectively canceling the quadratic phase terms.\n",
    "\n",
    "To compute this parallelized Fourier transform, we use SimMLA's fftSubgrid routine. It will return two lists of interpolated fields, one for the magnitude and one for the phase. We will then resample this field onto a new grid representing the coordinate axes immediately after the second MLA.\n",
    "\n",
    "*The reason we interpolate the resulting fields is because the physical units that the grid is built on change when the Fourier transform is performed. To return results based on the input grid spacing would require downsampling anyway, so I figured it would be better to let the user define the new grid spacing for their needs.*"
   ]
  },
  {
   "cell_type": "code",
   "execution_count": 5,
   "metadata": {
    "collapsed": false
   },
   "outputs": [
    {
     "name": "stdout",
     "output_type": "stream",
     "text": [
      "CPU times: user 53min 45s, sys: 7min 37s, total: 1h 1min 22s\n",
      "Wall time: 1h 5min 3s\n"
     ]
    }
   ],
   "source": [
    "# Compute the interpolated fields.\n",
    "%time interpMag, interpPhase = simfft.fftSubgrid(uIn, grid)"
   ]
  },
  {
   "cell_type": "markdown",
   "metadata": {},
   "source": [
    "Now that we have the interpolated fields, we'll define a new grid for sampling them. We'll give the grid the same physical extent as before, but we may choose to increase the spatial sampling rate slightly. We will also use the focal length of the objective because it will serve as the final Fourier transforming lens in the system.\n",
    "\n",
    "*If we increase the sampling rate for the new grid, it won't necessarily fix any subsampling that occurred in the previous step. It will only provide better resolution at the possibly aliased results.*"
   ]
  },
  {
   "cell_type": "code",
   "execution_count": 6,
   "metadata": {
    "collapsed": false
   },
   "outputs": [
    {
     "name": "stdout",
     "output_type": "stream",
     "text": [
      "CPU times: user 19min 55s, sys: 3min 19s, total: 23min 14s\n",
      "Wall time: 28min 42s\n"
     ]
    }
   ],
   "source": [
    "%%time\n",
    "fObj        = 3300 # microns\n",
    "newGridSize = subgridSize * numLenslets # microns\n",
    "\n",
    "newGrid = grids.Grid(newGridSize, physicalSize, wavelength, fObj)\n",
    "field   = np.zeros((newGrid.gridSize, newGrid.gridSize))\n",
    "\n",
    "\n",
    "# For each interpolated magnitude and phase corresponding to a lenslet\n",
    "# 1) Compute the full complex field\n",
    "# 2) Sum it with the other complex fields\n",
    "for currMag, currPhase in zip(interpMag, interpPhase):\n",
    "    fieldMag   = currMag(np.unique(newGrid.py), np.unique(newGrid.px))\n",
    "    fieldPhase = currPhase(np.unique(newGrid.py), np.unique(newGrid.px))\n",
    "    \n",
    "    currField = fieldMag * np.exp(1j * fieldPhase)\n",
    "    field = field + currField"
   ]
  },
  {
   "cell_type": "code",
   "execution_count": 15,
   "metadata": {
    "collapsed": false
   },
   "outputs": [],
   "source": [
    "fig, (ax0, ax1) = plt.subplots(nrows = 1, ncols = 2, sharey = True)\n",
    "ax0.imshow(np.abs(field),\n",
    "           interpolation = 'nearest',\n",
    "           extent = (newGrid.px.min(), newGrid.px.max(), newGrid.py.min(), newGrid.py.max()))\n",
    "ax0.set_xlabel('x-position, microns')\n",
    "ax0.set_ylabel('y-position, microns')\n",
    "\n",
    "ax1.imshow(np.angle(field),\n",
    "           interpolation = 'nearest',\n",
    "           extent = (newGrid.px.min(), newGrid.px.max(), newGrid.py.min(), newGrid.py.max()))\n",
    "ax1.set_xlabel('x-position, microns')\n",
    "plt.show()"
   ]
  },
  {
   "cell_type": "code",
   "execution_count": 7,
   "metadata": {
    "collapsed": true
   },
   "outputs": [],
   "source": [
    "np.save('field', field)"
   ]
  },
  {
   "cell_type": "code",
   "execution_count": 14,
   "metadata": {
    "collapsed": false
   },
   "outputs": [
    {
     "data": {
      "text/plain": [
       "<matplotlib.image.AxesImage at 0x7f005abc5ac8>"
      ]
     },
     "execution_count": 14,
     "metadata": {},
     "output_type": "execute_result"
    }
   ],
   "source": [
    "plt.imshow(np.abs(np.fft.fftshift(np.fft.fft2(field))),\n",
    "           interpolation = 'nearest',\n",
    "           extent = (newGrid.pX.min(), newGrid.pX.max(), newGrid.pY.min(), newGrid.pY.max()))"
   ]
  },
  {
   "cell_type": "code",
   "execution_count": null,
   "metadata": {
    "collapsed": true
   },
   "outputs": [],
   "source": []
  }
 ],
 "metadata": {
  "kernelspec": {
   "display_name": "Python 3",
   "language": "python",
   "name": "python3"
  },
  "language_info": {
   "codemirror_mode": {
    "name": "ipython",
    "version": 3
   },
   "file_extension": ".py",
   "mimetype": "text/x-python",
   "name": "python",
   "nbconvert_exporter": "python",
   "pygments_lexer": "ipython3",
   "version": "3.5.1"
  }
 },
 "nbformat": 4,
 "nbformat_minor": 0
}
