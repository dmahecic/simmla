{
 "cells": [
  {
   "cell_type": "code",
   "execution_count": 4,
   "metadata": {
    "collapsed": false
   },
   "outputs": [
    {
     "name": "stdout",
     "output_type": "stream",
     "text": [
      "Using matplotlib backend: Qt4Agg\n",
      "Populating the interactive namespace from numpy and matplotlib\n"
     ]
    }
   ],
   "source": [
    "%pylab\n",
    "%matplotlib inline\n",
    "import SimMLA.fftpack as simfft\n",
    "import SimMLA.grids   as grids"
   ]
  },
  {
   "cell_type": "markdown",
   "metadata": {},
   "source": [
    "# Simulation of partially coherent beams\n",
    "The rotating diffuser in the illuminator setup has the effect of randomizing the phase of the incident laser beam. This randomization results in a decrease in the spatial coherence of the beam, which smears out the array resulting from the coherent beam illumination.\n",
    "\n",
    "To simulate the effect of partial spatial coherence, I am employing a simulation strategy detailed in [Xiao and Voelz, Optics Express 14, 6986-6992 (2006)](https://www.osapublishing.org/oe/fulltext.cfm?uri=oe-14-16-6986&id=96179). The strategy employed in this paper is to firstgenerate a random phase screen that satisfies the Gaussian-Schell model. The input field is multipled by this phase screen and then propagated through the illuminator to the sample. Another phase screen is generated and the process is repeated a large number of times. The average irradiance on the sample becomes the average over these realizations."
   ]
  },
  {
   "cell_type": "code",
   "execution_count": 5,
   "metadata": {
    "collapsed": false
   },
   "outputs": [],
   "source": [
    "# Create a grid to sample the input field and build the coherence function on\n",
    "numLenslets  = 21    # Must be odd; corresponds to the number of lenslets in one dimension\n",
    "lensletSize  = 500   # microns\n",
    "focalLength  = 13700 # microns\n",
    "\n",
    "wavelength   = 0.642 # microns\n",
    "\n",
    "subgridSize  = 10001                     # Number of grid (or lattice) sites for a single lenslet\n",
    "physicalSize = numLenslets * lensletSize # The full extent of the MLA\n",
    "\n",
    "# dim = 1 makes the grid 1D\n",
    "grid = grids.GridArray(numLenslets, subgridSize, physicalSize, wavelength, focalLength, dim = 1)"
   ]
  },
  {
   "cell_type": "code",
   "execution_count": 18,
   "metadata": {
    "collapsed": true
   },
   "outputs": [],
   "source": [
    "# Define the amplitude variation and correlation length of the phase screen\n",
    "sigma_r = 100 * np.sqrt(4 * np.pi) # microns\n",
    "sigma_f = 10 # microns\n",
    "\n",
    "GS_Criterion = sigma_r**2 / 4 / np.pi / sigma_f**2"
   ]
  },
  {
   "cell_type": "code",
   "execution_count": 17,
   "metadata": {
    "collapsed": false
   },
   "outputs": [
    {
     "data": {
      "text/plain": [
       "99.999999999999986"
      ]
     },
     "execution_count": 17,
     "metadata": {},
     "output_type": "execute_result"
    }
   ],
   "source": [
    "GS_Criterion"
   ]
  },
  {
   "cell_type": "code",
   "execution_count": 9,
   "metadata": {
    "collapsed": false
   },
   "outputs": [
    {
     "data": {
      "text/plain": [
       "16.0"
      ]
     },
     "execution_count": 9,
     "metadata": {},
     "output_type": "execute_result"
    }
   ],
   "source": []
  },
  {
   "cell_type": "code",
   "execution_count": null,
   "metadata": {
    "collapsed": true
   },
   "outputs": [],
   "source": []
  }
 ],
 "metadata": {
  "kernelspec": {
   "display_name": "Python 3",
   "language": "python",
   "name": "python3"
  },
  "language_info": {
   "codemirror_mode": {
    "name": "ipython",
    "version": 3
   },
   "file_extension": ".py",
   "mimetype": "text/x-python",
   "name": "python",
   "nbconvert_exporter": "python",
   "pygments_lexer": "ipython3",
   "version": "3.5.1"
  }
 },
 "nbformat": 4,
 "nbformat_minor": 0
}
