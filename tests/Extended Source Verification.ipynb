{
 "cells": [
  {
   "cell_type": "markdown",
   "metadata": {},
   "source": [
    "## Simulation of collimated extended sources for dual-MLA illuminator"
   ]
  },
  {
   "cell_type": "code",
   "execution_count": 1,
   "metadata": {
    "collapsed": false
   },
   "outputs": [
    {
     "name": "stdout",
     "output_type": "stream",
     "text": [
      "Using matplotlib backend: Qt4Agg\n",
      "Populating the interactive namespace from numpy and matplotlib\n"
     ]
    }
   ],
   "source": [
    "%pylab\n",
    "%matplotlib inline\n",
    "import SimMLA.fftpack as simfft\n",
    "import SimMLA.grids   as grids\n",
    "import SimMLA.fields  as fields"
   ]
  },
  {
   "cell_type": "markdown",
   "metadata": {},
   "source": [
    "This is a test to see whether the code can reproduce Fig. 7c of [Büttner and Zeitner, \"Wave optical analysis of light-emitting diode beam shaping using microlens arrays\", SPIE, 2002](http://opticalengineering.spiedigitallibrary.org/article.aspx?articleid=1099186)."
   ]
  },
  {
   "cell_type": "code",
   "execution_count": 2,
   "metadata": {
    "collapsed": false
   },
   "outputs": [],
   "source": [
    "numLenslets = 11    # Must be odd; corresponds to the number of lenslets in one dimension\n",
    "lensletSize = 200   # microns\n",
    "focalLength = lensletSize / 2 / 0.11 # microns\n",
    "\n",
    "wavelength  = 0.520 # microns\n",
    "\n",
    "subgridSize  = 1001                     # Number of grid (or lattice) sites for a single lenslet\n",
    "physicalSize = numLenslets * lensletSize # The full extent of the MLA\n",
    "\n",
    "# dim = 1 makes the grid 1D\n",
    "grid = grids.GridArray(numLenslets, subgridSize, physicalSize, wavelength, focalLength, dim = 1, zeroPad = 3)"
   ]
  },
  {
   "cell_type": "markdown",
   "metadata": {},
   "source": [
    "Propagate the field through the MLA and find the average irradiance."
   ]
  },
  {
   "cell_type": "code",
   "execution_count": 3,
   "metadata": {
    "collapsed": false
   },
   "outputs": [],
   "source": [
    "Z0       = 376.73 # Impedance of free space, Ohms\n",
    "power    = 100  # mW\n",
    "beamStd  = 1000 # microns\n",
    "\n",
    "# Collimating lens\n",
    "fc = 50000 # microns\n",
    "\n",
    "# Diffuser properties\n",
    "# We won't actually create the deterministic Gaussian beam; \n",
    "# We generate only random plane waves by setting powerScat = 1\n",
    "# The ratio of beamSize to grainSize determines the number of independent sources.\n",
    "grainSize = 100 # microns\n",
    "beamSize  = 0.68 * lensletSize * fc / focalLength # microns (derived from rho in Büttner and Zeitner, 2002)\n",
    "powerScat = 1  # fraction of power scattered by diffuser (remove the Gaussian part of the beam)\n",
    "\n",
    "fieldAmp = np.sqrt(power / 1000 * Z0 / beamStd / np.sqrt(np.pi)) # Factor of 1000 converts from mW to W\n",
    "beam     = fields.GaussianWithDiffuser(fieldAmp,\n",
    "                                       beamStd,\n",
    "                                       physicalSize, # MLA aperture size, not grid size\n",
    "                                       powerScat  = powerScat,\n",
    "                                       wavelength = wavelength,\n",
    "                                       fc         = fc,\n",
    "                                       grainSize  = grainSize,\n",
    "                                       beamSize   = beamSize)\n",
    "\n",
    "fObj         = 100000   # microns\n",
    "\n",
    "# Grid for interpolating the field after the second MLA\n",
    "newGridSize = subgridSize * numLenslets # meters\n",
    "newGrid     = grids.Grid(5*newGridSize, 5*physicalSize, wavelength, fObj, dim = 1)"
   ]
  },
  {
   "cell_type": "code",
   "execution_count": 4,
   "metadata": {
    "collapsed": false
   },
   "outputs": [
    {
     "data": {
      "text/plain": [
       "7480.0"
      ]
     },
     "execution_count": 4,
     "metadata": {},
     "output_type": "execute_result"
    }
   ],
   "source": [
    "beamSize"
   ]
  },
  {
   "cell_type": "code",
   "execution_count": 5,
   "metadata": {
    "collapsed": false
   },
   "outputs": [
    {
     "data": {
      "text/plain": [
       "1.6800000000000002"
      ]
     },
     "execution_count": 5,
     "metadata": {},
     "output_type": "execute_result"
    }
   ],
   "source": [
    "beamSize * focalLength / fc / lensletSize + 1 # Should be rho = 1.68"
   ]
  },
  {
   "cell_type": "code",
   "execution_count": 6,
   "metadata": {
    "collapsed": false
   },
   "outputs": [
    {
     "name": "stdout",
     "output_type": "stream",
     "text": [
      "CPU times: user 7min 40s, sys: 680 ms, total: 7min 40s\n",
      "Wall time: 7min 41s\n"
     ]
    }
   ],
   "source": [
    "%%time\n",
    "nIter = 100\n",
    "\n",
    "avgIrrad = np.zeros(newGrid.px.size, dtype=np.float128)\n",
    "for realization in range(nIter):\n",
    "\n",
    "    # Field propagation\n",
    "    # Compute the interpolated fields\n",
    "    interpMag, interpPhase = simfft.fftSubgrid(beam, grid)\n",
    "\n",
    "    field   = np.zeros(newGrid.gridSize)\n",
    "\n",
    "    # For each interpolated magnitude and phase corresponding to a lenslet\n",
    "    # 1) Compute the full complex field\n",
    "    # 2) Sum it with the other complex fields\n",
    "    for currMag, currPhase in zip(interpMag, interpPhase):\n",
    "        fieldMag   = currMag(newGrid.px)\n",
    "        fieldPhase = currPhase(newGrid.px)\n",
    "\n",
    "        currField = fieldMag * np.exp(1j * fieldPhase)\n",
    "        field     = field + currField\n",
    "        \n",
    "    # No propagation or clipping\n",
    "    \n",
    "    # Propagate the field in the BFP to the sample\n",
    "    scalingFactor = newGrid.physicalSize / (newGrid.gridSize - 1) / np.sqrt(newGrid.wavelength * newGrid.focalLength)\n",
    "    F             = scalingFactor * np.fft.fftshift(np.fft.fft(np.fft.ifftshift(field)))    \n",
    "        \n",
    "    # Compute the irradiance on the sample\n",
    "    Irrad = np.abs(F)**2 / Z0 * 1000\n",
    "    \n",
    "    # Save the results for this realization\n",
    "    avgIrrad = avgIrrad + Irrad\n",
    "    \n",
    "# Average irradiance\n",
    "avgIrrad = avgIrrad / nIter"
   ]
  },
  {
   "cell_type": "code",
   "execution_count": 7,
   "metadata": {
    "collapsed": false
   },
   "outputs": [
    {
     "data": {
      "image/png": "[encoded data removed]",
      "text/plain": [
       "<matplotlib.figure.Figure at 0x7fe0645735c0>"
      ]
     },
     "metadata": {},
     "output_type": "display_data"
    }
   ],
   "source": [
    "plt.plot(newGrid.pX, avgIrrad)\n",
    "plt.xlim((-15000,15000))\n",
    "plt.xlabel(r'Sample plane x-position, $\\mu m$')\n",
    "plt.ylabel(r'Irradiance, $W / \\mu m$')\n",
    "plt.grid(True)\n",
    "plt.show()"
   ]
  },
  {
   "cell_type": "markdown",
   "metadata": {
    "collapsed": true
   },
   "source": [
    "Here is an image of Fig. 7c from Büttner and Zeitner for comparison:\n",
    "\n",
    "![Flat-top profile for extended source](Fig7c-Büttner.png)"
   ]
  },
  {
   "cell_type": "code",
   "execution_count": null,
   "metadata": {
    "collapsed": true
   },
   "outputs": [],
   "source": []
  }
 ],
 "metadata": {
  "kernelspec": {
   "display_name": "Python 3",
   "language": "python",
   "name": "python3"
  },
  "language_info": {
   "codemirror_mode": {
    "name": "ipython",
    "version": 3
   },
   "file_extension": ".py",
   "mimetype": "text/x-python",
   "name": "python",
   "nbconvert_exporter": "python",
   "pygments_lexer": "ipython3",
   "version": "3.5.1"
  }
 },
 "nbformat": 4,
 "nbformat_minor": 0
}
