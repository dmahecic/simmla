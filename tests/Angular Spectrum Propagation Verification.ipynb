{
 "cells": [
  {
   "cell_type": "markdown",
   "metadata": {},
   "source": [
    "# Verification the angular spectrum propagation function\n",
    "We can can verify that the angular spectrum propagator works by using Gaussian beam theory to calculate the width of a Gaussian beam at two separate planes and compare it to SimMLA's numerical results.\n",
    "\n",
    "**Note: This notebook contains LaTeX that may not be visible when viewed from GitHub. Try downloading it and opening it with the Jupyter Notebook application.**"
   ]
  },
  {
   "cell_type": "code",
   "execution_count": 1,
   "metadata": {
    "collapsed": false
   },
   "outputs": [
    {
     "name": "stdout",
     "output_type": "stream",
     "text": [
      "Using matplotlib backend: Qt4Agg\n",
      "Populating the interactive namespace from numpy and matplotlib\n"
     ]
    }
   ],
   "source": [
    "%pylab\n",
    "%matplotlib inline\n",
    "import SimMLA.fftpack as simfft\n",
    "import SimMLA.grids   as grids\n",
    "import SimMLA.fields  as fields"
   ]
  },
  {
   "cell_type": "code",
   "execution_count": 2,
   "metadata": {
    "collapsed": true
   },
   "outputs": [],
   "source": [
    "# Define a Gaussian beam\n",
    "Z0         = 376.73 # Impedance of free space, Ohms\n",
    "power      = 100    # mW\n",
    "beamStd    = 1000   # microns\n",
    "wavelength = 0.642  # microns\n",
    "\n",
    "fieldAmp = np.sqrt(power / 1000 * Z0 / beamStd / np.sqrt(np.pi)) # Factor of 1000 converts from mW to W\n",
    "beam     = fields.GaussianBeamWaistProfile(fieldAmp, beamStd)"
   ]
  },
  {
   "cell_type": "markdown",
   "metadata": {},
   "source": [
    "The width of a Gaussian beam as a function of its propagation distance along the z-direction is given by\n",
    "\n",
    "$$ w \\left( z \\right) = w_{0} \\sqrt{1 + \\left( \\frac{z}{z_R} \\right)^2 } $$\n",
    "\n",
    "with \\\\( z_R = \\frac{\\pi w_0^2}{\\lambda} \\\\) and \\\\( w_0 \\\\) the beam size at the waist.\n",
    "\n",
    "The beam waist is related to the standard deviation by \\\\( w_0^2 = 2 \\sigma^2 \\\\).\n",
    "\n",
    "At a distance of \\\\( z = 10 \\, m = 1 \\times 10^7 \\, \\mu m \\\\), the theoretical size is\n",
    "\n",
    "$$ w \\left( z = 10^7 \\, \\mu m \\right) = \\sqrt{2 \\left (10^3 \\, \\mu m \\right)^2} \\sqrt{1 + \\left( \\frac{10^7 \\, \\mu m \\times 0.642 \\, \\mu m}{\\pi \\times 2 \\left( 10^3 \\, \\mu m \\right)^2} \\right)^2} = 2021 \\, \\mu m$$\n",
    "\n",
    "with a standard deviation of \\\\( \\frac{2021 \\, \\mu m}{\\sqrt{2}} \\\\approx 1430 \\, \\mu m \\\\)."
   ]
  },
  {
   "cell_type": "code",
   "execution_count": 3,
   "metadata": {
    "collapsed": false
   },
   "outputs": [
    {
     "name": "stdout",
     "output_type": "stream",
     "text": [
      "2021.89198938\n",
      "1429.69353652\n"
     ]
    }
   ],
   "source": [
    "w = np.sqrt(2 * 1e3**2) * np.sqrt(1 + ((1e7 * 0.642)/(np.pi * 2 * (1e3)**2))**2)\n",
    "print(w)\n",
    "print(w / np.sqrt(2) )"
   ]
  },
  {
   "cell_type": "code",
   "execution_count": 4,
   "metadata": {
    "collapsed": false
   },
   "outputs": [],
   "source": [
    "gridSize     = 10001 # samples\n",
    "physicalSize = 100000 # microns\n",
    "propDistance = 1e7 # microns\n",
    "grid = grids.Grid(gridSize, physicalSize, wavelength, 1, dim = 1) # focalLength doesn't matter\n",
    "\n",
    "u2 = simfft.fftPropagate(beam(grid.px), grid, propDistance)"
   ]
  },
  {
   "cell_type": "code",
   "execution_count": 5,
   "metadata": {
    "collapsed": false
   },
   "outputs": [
    {
     "data": {
      "image/png": "[encoded data removed]",
      "text/plain": [
       "<matplotlib.figure.Figure at 0x7f7839fb1ac8>"
      ]
     },
     "metadata": {},
     "output_type": "display_data"
    }
   ],
   "source": [
    "plt.plot(grid.px, beam(grid.px), linewidth = 3, label = 'Beam at z = 0')\n",
    "plt.plot(grid.px, np.abs(u2), linewidth = 2, label = 'Beam at z = {0:0.0e}'.format(propDistance))\n",
    "plt.xlim((-5000, 5000))\n",
    "plt.grid(True)\n",
    "plt.legend()\n",
    "plt.show()"
   ]
  },
  {
   "cell_type": "code",
   "execution_count": 6,
   "metadata": {
    "collapsed": true
   },
   "outputs": [],
   "source": [
    "from scipy.optimize import curve_fit"
   ]
  },
  {
   "cell_type": "code",
   "execution_count": 7,
   "metadata": {
    "collapsed": false
   },
   "outputs": [],
   "source": [
    "def Gaussian(x, *p):\n",
    "    amp, std = p\n",
    "    \n",
    "    return amp * exp(-x**2 / 2 / std**2)\n",
    "pinit   = [0.015, 3000]\n",
    "popt, _ = curve_fit(Gaussian, grid.px, np.abs(u2), p0 = pinit)"
   ]
  },
  {
   "cell_type": "code",
   "execution_count": 8,
   "metadata": {
    "collapsed": false
   },
   "outputs": [
    {
     "name": "stdout",
     "output_type": "stream",
     "text": [
      "The theoretical beam standard deviation is: 1429.69\n",
      "The numerical beam standard deviation is: 1429.84\n"
     ]
    }
   ],
   "source": [
    "print('The theoretical beam standard deviation is: {:.2f}'.format(w / np.sqrt(2)))\n",
    "print('The numerical beam standard deviation is: {0:.2f}'.format(popt[1]))"
   ]
  },
  {
   "cell_type": "markdown",
   "metadata": {},
   "source": [
    "The check passes, which demonstrates that the angular spectrum propagation is working as expected."
   ]
  }
 ],
 "metadata": {
  "kernelspec": {
   "display_name": "Python 3",
   "language": "python",
   "name": "python3"
  },
  "language_info": {
   "codemirror_mode": {
    "name": "ipython",
    "version": 3
   },
   "file_extension": ".py",
   "mimetype": "text/x-python",
   "name": "python",
   "nbconvert_exporter": "python",
   "pygments_lexer": "ipython3",
   "version": "3.5.1"
  }
 },
 "nbformat": 4,
 "nbformat_minor": 0
}
