{
 "cells": [
  {
   "cell_type": "markdown",
   "metadata": {},
   "source": [
    "# New Homogenizer Calculations #\n",
    "### Design parameters ###\n",
    "+ $D$ = diameter of input beam at microlens array\n",
    "+ $d$ = diameter of lenslet\n",
    "+ $F$ = focal length of primary lens (objective)\n",
    "+ $f$ = focal length of array lenslet\n",
    "+ $S$ = diameter of target spot\n",
    "+ $\\lambda$ = wavelength\n",
    "+ $R_w$ = radius of curvature of wavefront\n",
    "+ $R_0$ = radius of curvature of reference sphere centered on target\n",
    "+ $M$ = objective magnification\n",
    "+ $ROC$ = lens radius of curvature\n",
    "+ $n$ = refractive index\n",
    "\n",
    "### Important equations ###\n",
    "+ Fresnel Number: $FN = \\frac{dS}{4 \\lambda F}$\n",
    "+ Flat-top size (diffracting and imaging): $S = \\frac{F}{f/d}$\n",
    "+ Flat-top size (with telescope): $S = \\frac{F}{f/d}\\frac{f_1}{f_2}$\n",
    "+ Interference periodicity: $P = \\frac{\\lambda F}{d}$\n",
    "+ Homogenizer quality: $\\beta = \\frac{\\pi d S}{\\lambda F}$\n",
    "+ Objective exit pupil diameter: $D_{EXT} = 2 NA \\times F$\n",
    "+ Objective focal length: $F = \\frac{f_{TL}}{M}$\n",
    "+ Lenslet focal length: $\\frac{ROC}{n - 1}$\n"
   ]
  },
  {
   "cell_type": "markdown",
   "metadata": {},
   "source": [
    "## Modeling Code ##"
   ]
  },
  {
   "cell_type": "code",
   "execution_count": 1,
   "metadata": {
    "collapsed": false
   },
   "outputs": [
    {
     "name": "stdout",
     "output_type": "stream",
     "text": [
      "Using matplotlib backend: TkAgg\n",
      "Populating the interactive namespace from numpy and matplotlib\n"
     ]
    }
   ],
   "source": [
    "%pylab\n",
    "%matplotlib inline"
   ]
  },
  {
   "cell_type": "code",
   "execution_count": 2,
   "metadata": {
    "collapsed": true
   },
   "outputs": [],
   "source": [
    "# All units in microns\n",
    "def FresnelNumber(mlaPitch = 500, fObj = 2000, wavelength = 0.642, spotSize = 75):\n",
    "    return mlaPitch * spotSize / 4 / wavelength / fObj\n",
    "\n",
    "def spotSize(fObj = 2000, mlaPitch = 500, fMLA = 13600):\n",
    "    return fObj * mlaPitch / fMLA\n",
    "\n",
    "def spotSizeTele(fObj = 2000, mlaPitch = 500, fMLA = 13600, f1 = 100000, f2 = 30000):\n",
    "    return fObj * mlaPitch / fMLA * f1 / f2\n",
    "\n",
    "def periodicity(wavelength = 0.642, fObj = 2000, mlaPitch = 500):\n",
    "    return wavelength * fObj / mlaPitch\n",
    "\n",
    "def beta(mlaPitch = 500, spotSize = 75, wavelength = 0.642, fObj = 2000):\n",
    "    return np.pi * mlaPitch * spotSize / wavelength / fObj\n",
    "\n",
    "def exitPupil(NA = 1.45, fObj = 2000):\n",
    "    return 2 * NA * fObj\n",
    "\n",
    "def objFocalLength(fTubeLength = 200000, mag = 100):\n",
    "    return fTubeLength / mag\n",
    "\n",
    "def fLenslet(ROC = 6300, n = 1.46):\n",
    "    return ROC / (n - 1)"
   ]
  },
  {
   "cell_type": "markdown",
   "metadata": {},
   "source": [
    "## Test case ##\n",
    "From Dickey, Chapter 7"
   ]
  },
  {
   "cell_type": "code",
   "execution_count": 3,
   "metadata": {
    "collapsed": false
   },
   "outputs": [],
   "source": [
    "wavelength = 1.061\n",
    "beamDiam   = 5000\n",
    "d          = 1250\n",
    "fMLA       = 68950\n",
    "fObj       = 17100\n",
    "NA         = 1.45\n",
    "\n",
    "B  = beta(mlaPitch = d, spotSize = spotSize(fObj = fObj, mlaPitch=d, fMLA = fMLA), wavelength = wavelength, fObj = fObj)\n",
    "S  = spotSize(fObj = fObj, mlaPitch=d, fMLA = fMLA)\n",
    "FN = FresnelNumber(mlaPitch = d, fObj = fObj, wavelength = wavelength, spotSize = spotSize(fObj = fObj, mlaPitch=d, fMLA = fMLA))\n",
    "P  = periodicity(wavelength = wavelength, fObj = fObj, mlaPitch = d)"
   ]
  },
  {
   "cell_type": "code",
   "execution_count": 4,
   "metadata": {
    "collapsed": false
   },
   "outputs": [
    {
     "name": "stdout",
     "output_type": "stream",
     "text": [
      "B is 67.10; it should be 67\n",
      "S is 310.01 microns; it should be 310 microns\n",
      "FN is 5.34; it should be 5.34\n",
      "P is 14.51 microns; it should be 14.5 microns\n"
     ]
    }
   ],
   "source": [
    "print('B is {0:.2f}; it should be 67'.format(B))\n",
    "# S should be 310 microns\n",
    "print('S is {0:.2f} microns; it should be 310 microns'.format(S))\n",
    "print('FN is {0:.2f}; it should be 5.34'.format(FN))\n",
    "print('P is {0:.2f} microns; it should be 14.5 microns'.format(P))"
   ]
  },
  {
   "cell_type": "markdown",
   "metadata": {},
   "source": [
    "From known numbers on microscope parameters"
   ]
  },
  {
   "cell_type": "code",
   "execution_count": 5,
   "metadata": {
    "collapsed": false
   },
   "outputs": [],
   "source": [
    "exP            = exitPupil(NA = 1.45, fObj = 2000)\n",
    "fObj           = objFocalLength(fTubeLength =  200000, mag = 100)\n",
    "magFlatTop     = spotSizeTele(fObj = 2000, mlaPitch = 500, fMLA = 13700, f1 = 100000, f2 = 30000)\n",
    "focLenslet     = fLenslet(ROC = 6300, n = 1.46)"
   ]
  },
  {
   "cell_type": "code",
   "execution_count": 6,
   "metadata": {
    "collapsed": false
   },
   "outputs": [
    {
     "name": "stdout",
     "output_type": "stream",
     "text": [
      "The exit pupil is 5800.00 microns; it should be 5800 microns\n",
      "The objective focal length is 2000.00 microns; it should be 2000 microns\n",
      "The magnified flat-top size is 243.31 microns; it should be about 250 microns\n",
      "The lenslet focal length is 13695.65 microns; it should be 13700 microns.\n"
     ]
    }
   ],
   "source": [
    "print('The exit pupil is {0:.2f} microns; it should be 5800 microns'.format(exP))\n",
    "print('The objective focal length is {0:.2f} microns; it should be 2000 microns'.format(fObj))\n",
    "print('The magnified flat-top size is {0:.2f} microns; it should be about 250 microns'.format(magFlatTop))\n",
    "print('The lenslet focal length is {0:.2f} microns; it should be 13700 microns.'.format(focLenslet))"
   ]
  },
  {
   "cell_type": "markdown",
   "metadata": {},
   "source": [
    "---\n",
    "# Design Calculations"
   ]
  },
  {
   "cell_type": "code",
   "execution_count": 7,
   "metadata": {
    "collapsed": true
   },
   "outputs": [],
   "source": [
    "wavelength = 0.642\n",
    "NA         = 1.45\n",
    "fObj       = objFocalLength(mag = 60)"
   ]
  },
  {
   "cell_type": "code",
   "execution_count": 8,
   "metadata": {
    "collapsed": true
   },
   "outputs": [],
   "source": [
    "# MLA Part Number: 18-00170\n",
    "d    = 300\n",
    "ROC  = 2200\n",
    "\n",
    "fMLA = fLenslet(ROC = ROC)\n",
    "S    = spotSize(fObj = fObj, mlaPitch = d, fMLA = fMLA)\n",
    "FN   = FresnelNumber(mlaPitch = d, fObj = fObj, spotSize = S)\n",
    "B    = beta(mlaPitch = d, spotSize = S, fObj = fObj, wavelength = wavelength)\n",
    "P    = periodicity(wavelength = wavelength, fObj = fObj, mlaPitch = d)\n",
    "ExP  = exitPupil(NA = NA, fObj = fObj)"
   ]
  },
  {
   "cell_type": "code",
   "execution_count": 9,
   "metadata": {
    "collapsed": false
   },
   "outputs": [
    {
     "name": "stdout",
     "output_type": "stream",
     "text": [
      "Spot size: 209.09 microns\n",
      "Frensel number: 7.33\n",
      "Beta: 92.09\n",
      "Periodicity: 7.13 microns\n",
      "Lenslet focal length: 4782.61 microns\n",
      "Exit pupil diameter: 9666.67 microns\n"
     ]
    }
   ],
   "source": [
    "print('Spot size: {0:.2f} microns'.format(S))\n",
    "print('Frensel number: {0:.2f}'.format(FN))\n",
    "print('Beta: {0:.2f}'.format(B))\n",
    "print('Periodicity: {0:.2f} microns'.format(P))\n",
    "print('Lenslet focal length: {0:.2f} microns'.format(fMLA))\n",
    "print('Exit pupil diameter: {0:.2f} microns'.format(ExP))"
   ]
  },
  {
   "cell_type": "markdown",
   "metadata": {},
   "source": [
    "### How big is the beam at the exit pupil?\n",
    "\n",
    "The lenslet focal length is 4.8 mm and the height of the marginal ray through a microlens is $0.3/2 = 0.15 \\, mm$. This means that rays from the array will have a maximum divergence angle of $\\arctan \\left( 0.15/4.8 \\right) = 0.0312 \\, \\text{rad}$ or $1.8 \\, \\text{degrees}$. Assuming the distance between the MLA and the back focal plane of the objective is $200 \\, mm$, the ray starting at the farthest distance from the optics axis with this divergence will be $\\tan \\left(0.0312 \\, rad \\right) \\times 200 \\, mm + 5 \\, mm = 11.5 \\, mm$ from the optics axis, which is quite a bit larger than the exit pupil so it will be significantly overfilled. "
   ]
  },
  {
   "cell_type": "markdown",
   "metadata": {},
   "source": [
    "## Design with other MLA's"
   ]
  },
  {
   "cell_type": "code",
   "execution_count": 21,
   "metadata": {
    "collapsed": true
   },
   "outputs": [],
   "source": [
    "wavelength = 0.642\n",
    "NA         = 1.40\n",
    "fObj       = objFocalLength(mag = 60)"
   ]
  },
  {
   "cell_type": "code",
   "execution_count": 34,
   "metadata": {
    "collapsed": false
   },
   "outputs": [
    {
     "name": "stdout",
     "output_type": "stream",
     "text": [
      "Spot size: 201.75 microns\n",
      "Frensel number: 11.78\n",
      "Beta: 148.09\n",
      "Periodicity: 4.28 microns\n",
      "Lenslet focal length: 8260.87 microns\n",
      "Exit pupil diameter: 9333.33 microns\n"
     ]
    }
   ],
   "source": [
    "d    = 500\n",
    "ROC  = 3800\n",
    "\n",
    "fMLA = fLenslet(ROC = ROC)\n",
    "S    = spotSize(fObj = fObj, mlaPitch = d, fMLA = fMLA)\n",
    "FN   = FresnelNumber(mlaPitch = d, fObj = fObj, spotSize = S)\n",
    "B    = beta(mlaPitch = d, spotSize = S, fObj = fObj, wavelength = wavelength)\n",
    "P    = periodicity(wavelength = wavelength, fObj = fObj, mlaPitch = d)\n",
    "ExP  = exitPupil(NA = NA, fObj = fObj)\n",
    "\n",
    "print('Spot size: {0:.2f} microns'.format(S))\n",
    "print('Frensel number: {0:.2f}'.format(FN))\n",
    "print('Beta: {0:.2f}'.format(B))\n",
    "print('Periodicity: {0:.2f} microns'.format(P))\n",
    "print('Lenslet focal length: {0:.2f} microns'.format(fMLA))\n",
    "print('Exit pupil diameter: {0:.2f} microns'.format(ExP))"
   ]
  },
  {
   "cell_type": "code",
   "execution_count": null,
   "metadata": {
    "collapsed": true
   },
   "outputs": [],
   "source": []
  }
 ],
 "metadata": {
  "kernelspec": {
   "display_name": "Python 3",
   "language": "python",
   "name": "python3"
  },
  "language_info": {
   "codemirror_mode": {
    "name": "ipython",
    "version": 3
   },
   "file_extension": ".py",
   "mimetype": "text/x-python",
   "name": "python",
   "nbconvert_exporter": "python",
   "pygments_lexer": "ipython3",
   "version": "3.4.3"
  }
 },
 "nbformat": 4,
 "nbformat_minor": 0
}
