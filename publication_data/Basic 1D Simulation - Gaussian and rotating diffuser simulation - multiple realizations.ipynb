{
 "cells": [
  {
   "cell_type": "markdown",
   "metadata": {},
   "source": [
    "## Simulation of Gaussian beam incident on dual microlens arrays (MLA's) for laser beam array generation."
   ]
  },
  {
   "cell_type": "code",
   "execution_count": 1,
   "metadata": {
    "collapsed": false
   },
   "outputs": [
    {
     "name": "stdout",
     "output_type": "stream",
     "text": [
      "Using matplotlib backend: Qt4Agg\n",
      "Populating the interactive namespace from numpy and matplotlib\n"
     ]
    }
   ],
   "source": [
    "%pylab\n",
    "%matplotlib inline\n",
    "import SimMLA.fftpack as simfft\n",
    "import SimMLA.grids   as grids\n",
    "import SimMLA.fields  as fields"
   ]
  },
  {
   "cell_type": "markdown",
   "metadata": {},
   "source": [
    "After simulating plane wave incidence on the MLA's, the next step in the development of the simulations is to simulate a real beam incident on the MLA's. A natural choice for doing so is a Gaussian beam. We will use the `fields` library in SimMLA to generate 1D Gaussian beams for propagation through the MLA setup.\n",
    "\n",
    "First, let's start by setting up our MLA illuminator as before."
   ]
  },
  {
   "cell_type": "code",
   "execution_count": 3,
   "metadata": {
    "collapsed": false
   },
   "outputs": [],
   "source": [
    "numLenslets = 21    # Must be odd; corresponds to the number of lenslets in one dimension\n",
    "lensletSize = 500   # microns\n",
    "focalLength = 13700 # microns\n",
    "\n",
    "wavelength  = 0.642 # microns\n",
    "\n",
    "subgridSize  = 1001                     # Number of grid (or lattice) sites for a single lenslet\n",
    "physicalSize = numLenslets * lensletSize # The full extent of the MLA\n",
    "\n",
    "# dim = 1 makes the grid 1D\n",
    "grid = grids.GridArray(numLenslets, subgridSize, physicalSize, wavelength, focalLength, dim = 1, zeroPad = 3)"
   ]
  },
  {
   "cell_type": "markdown",
   "metadata": {},
   "source": [
    "Propagate the field through the MLA and find the average irradiance."
   ]
  },
  {
   "cell_type": "code",
   "execution_count": 4,
   "metadata": {
    "collapsed": false
   },
   "outputs": [],
   "source": [
    "Z0       = 376.73 # Impedance of free space, Ohms\n",
    "power    = 100  # mW\n",
    "beamStd  = 1000 # microns\n",
    "\n",
    "# Collimating lens\n",
    "fc = 50000 # microns\n",
    "\n",
    "# Diffuser properties\n",
    "grainSize = 40   # microns\n",
    "beamSize  = 1000 # microns\n",
    "powerScat = 0.99  # fraction of power scattered by diffuser\n",
    "\n",
    "fieldAmp = np.sqrt(power / 1000 * Z0 / beamStd / np.sqrt(np.pi)) # Factor of 1000 converts from mW to W\n",
    "beam     = fields.GaussianWithDiffuser(fieldAmp,\n",
    "                                       beamStd,\n",
    "                                       physicalSize, # MLA aperture size, not grid size\n",
    "                                       powerScat  = powerScat,\n",
    "                                       wavelength = wavelength,\n",
    "                                       fc         = fc,\n",
    "                                       grainSize  = grainSize,\n",
    "                                       beamSize   = beamSize)\n",
    "\n",
    "fObj         = 3300   # microns\n",
    "propDistance = 200000 # microns\n",
    "bfpDiam      = 2 * 1.4 * fObj # BFP diameter, 2 * NA * f_OBJ\n",
    "\n",
    "# Grid for interpolating the field after the second MLA\n",
    "newGridSize = subgridSize * numLenslets # meters\n",
    "newGrid     = grids.Grid(5*newGridSize, 5*physicalSize, wavelength, fObj, dim = 1)"
   ]
  },
  {
   "cell_type": "code",
   "execution_count": 6,
   "metadata": {
    "collapsed": false
   },
   "outputs": [
    {
     "name": "stdout",
     "output_type": "stream",
     "text": [
      "CPU times: user 5min 35s, sys: 976 ms, total: 5min 36s\n",
      "Wall time: 5min 36s\n"
     ]
    }
   ],
   "source": [
    "%%time\n",
    "nIter = 25\n",
    "\n",
    "avgIrrad = np.zeros(newGrid.px.size, dtype=np.float128)\n",
    "for realization in range(nIter):\n",
    "\n",
    "    # Field propagation\n",
    "    # Compute the interpolated fields\n",
    "    interpMag, interpPhase = simfft.fftSubgrid(beam, grid)\n",
    "\n",
    "    field   = np.zeros(newGrid.gridSize)\n",
    "\n",
    "    # For each interpolated magnitude and phase corresponding to a lenslet\n",
    "    # 1) Compute the full complex field\n",
    "    # 2) Sum it with the other complex fields\n",
    "    for currMag, currPhase in zip(interpMag, interpPhase):\n",
    "        fieldMag   = currMag(newGrid.px)\n",
    "        fieldPhase = currPhase(newGrid.px)\n",
    "\n",
    "        currField = fieldMag * np.exp(1j * fieldPhase)\n",
    "        field     = field + currField\n",
    "        \n",
    "    # Propagate new field to the objective back aperture and clip the results\n",
    "    u2 = simfft.fftPropagate(field, newGrid, propDistance)\n",
    "    u2Prime = u2.copy() # Important to copy, otherwise u2Prime and u2 are the same array in memory!\n",
    "    u2Prime[np.logical_or(newGrid.px < -bfpDiam / 2, newGrid.px > bfpDiam / 2)] = 0.0\n",
    "    \n",
    "    # Propagate the field in the BFP to the sample\n",
    "    scalingFactor = newGrid.physicalSize / (newGrid.gridSize - 1) / np.sqrt(newGrid.wavelength * newGrid.focalLength)\n",
    "    F             = scalingFactor * np.fft.fftshift(np.fft.fft(np.fft.ifftshift(u2Prime)))    \n",
    "        \n",
    "    # Compute the irradiance on the sample\n",
    "    Irrad = np.abs(F)**2 / Z0 * 1000\n",
    "    \n",
    "    # Save the results for this realization\n",
    "    avgIrrad = avgIrrad + Irrad\n",
    "    \n",
    "# Average irradiance\n",
    "avgIrrad = avgIrrad / nIter"
   ]
  },
  {
   "cell_type": "code",
   "execution_count": 9,
   "metadata": {
    "collapsed": false
   },
   "outputs": [
    {
     "data": {
      "image/png": "[encoded data removed]",
      "text/plain": [
       "<matplotlib.figure.Figure at 0x7f6fb84802e8>"
      ]
     },
     "metadata": {},
     "output_type": "display_data"
    }
   ],
   "source": [
    "plt.plot(newGrid.pX, avgIrrad)\n",
    "plt.xlim((-100,100))\n",
    "plt.grid(True)\n",
    "plt.show()"
   ]
  },
  {
   "cell_type": "code",
   "execution_count": null,
   "metadata": {
    "collapsed": true
   },
   "outputs": [],
   "source": []
  }
 ],
 "metadata": {
  "kernelspec": {
   "display_name": "Python 3",
   "language": "python",
   "name": "python3"
  },
  "language_info": {
   "codemirror_mode": {
    "name": "ipython",
    "version": 3
   },
   "file_extension": ".py",
   "mimetype": "text/x-python",
   "name": "python",
   "nbconvert_exporter": "python",
   "pygments_lexer": "ipython3",
   "version": "3.5.1"
  }
 },
 "nbformat": 4,
 "nbformat_minor": 0
}
